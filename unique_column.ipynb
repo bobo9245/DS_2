{
 "cells": [
  {
   "cell_type": "code",
   "execution_count": 1,
   "metadata": {},
   "outputs": [
    {
     "name": "stdout",
     "output_type": "stream",
     "text": [
      "Column: User, Unique Values: 1509\n",
      "Column: Gender, Unique Values: 2\n",
      "Column: Current Age, Unique Values: 78\n",
      "Column: Retirement Age, Unique Values: 28\n",
      "Column: Birth Year, Unique Values: 77\n",
      "Column: Birth Month, Unique Values: 12\n",
      "Column: Zipcode, Unique Values: 1404\n",
      "Column: Per Capita Income - Zipcode, Unique Values: 1366\n",
      "Column: Yearly Income, Unique Values: 1506\n",
      "Column: Total Debt, Unique Values: 1432\n",
      "Column: Credit Score, Unique Values: 420\n",
      "Column: Year, Unique Values: 1\n",
      "Column: Month, Unique Values: 12\n",
      "Column: Day, Unique Values: 31\n",
      "Column: Merchandise Code, Unique Values: 109\n",
      "Column: Card, Unique Values: 9\n",
      "Column: Card Brand, Unique Values: 3\n",
      "Column: Card Type, Unique Values: 3\n",
      "Column: Card Number, Unique Values: 3777\n",
      "Column: Expires, Unique Values: 60\n",
      "Column: Has Chip, Unique Values: 2\n",
      "Column: Credit Limit, Unique Values: 2456\n",
      "Column: Acct Open Date, Unique Values: 288\n",
      "Column: Year PIN last Changed, Unique Values: 19\n",
      "Column: Amount, Unique Values: 10475\n",
      "Column: Whether Security Chip is Used, Unique Values: 3\n",
      "Column: Error Message, Unique Values: 18\n",
      "Column: Is Fraud?, Unique Values: 2\n"
     ]
    }
   ],
   "source": [
    "import pandas as pd\n",
    "\n",
    "# CSV 파일 읽기\n",
    "file_path = 'data/train.csv'  # CSV 파일 경로\n",
    "data = pd.read_csv(file_path)\n",
    "\n",
    "# 각 열의 고유값 개수 계산\n",
    "unique_counts = {}\n",
    "for column in data.columns:\n",
    "    unique_counts[column] = data[column].nunique()\n",
    "\n",
    "# 결과 출력\n",
    "for column, count in unique_counts.items():\n",
    "    print(f\"Column: {column}, Unique Values: {count}\")\n"
   ]
  }
 ],
 "metadata": {
  "kernelspec": {
   "display_name": "Python 3",
   "language": "python",
   "name": "python3"
  },
  "language_info": {
   "codemirror_mode": {
    "name": "ipython",
    "version": 3
   },
   "file_extension": ".py",
   "mimetype": "text/x-python",
   "name": "python",
   "nbconvert_exporter": "python",
   "pygments_lexer": "ipython3",
   "version": "3.11.7"
  }
 },
 "nbformat": 4,
 "nbformat_minor": 2
}
